{
 "cells": [
  {
   "cell_type": "code",
   "execution_count": null,
   "id": "bc9bd938-109c-421c-a6eb-356654279e7a",
   "metadata": {},
   "outputs": [],
   "source": [
    "import cv2\n",
    "# used for accessing url to download files\n",
    "import urllib.request as urlreq\n",
    "\n",
    "# used to access local directory\n",
    "import os\n",
    "\n",
    "# used to plot our images\n",
    "import matplotlib.pyplot as plt\n",
    "\n",
    "# used to change image size\n",
    "from pylab import rcParams"
   ]
  },
  {
   "cell_type": "code",
   "execution_count": null,
   "id": "91b1a47b-ba75-456a-bafc-3d03e61c01b8",
   "metadata": {},
   "outputs": [],
   "source": [
    "vid = cv2.VideoCapture(0)"
   ]
  },
  {
   "cell_type": "code",
   "execution_count": null,
   "id": "ad30e98d-dfed-4902-b287-b83cec45130b",
   "metadata": {},
   "outputs": [],
   "source": [
    "while(True):\n",
    "      \n",
    "    # Capture the video frame\n",
    "    # by frame\n",
    "    ret, frame = vid.read()\n",
    "    \n",
    "    # send to function to draw landmarks and box\n",
    "   \n",
    "    # Display the resulting frame\n",
    "cv2.imshow('frame', frame)\n",
    "      \n",
    "    # the 'q' button is set as the\n",
    "    # quitting button you may use any\n",
    "    # desired button of your choice\n",
    "    if cv2.waitKey(1) & 0xFF == ord('q'):\n",
    "        vid.release()\n",
    "        # Destroy all the windows\n",
    "        cv2.destroyAllWindows()\n",
    "        cv2.waitKey(1)    \n",
    "        break \n"
   ]
  },
  {
   "cell_type": "code",
   "execution_count": null,
   "id": "5691f16c-2994-4e6c-b494-03db7d4d236c",
   "metadata": {},
   "outputs": [],
   "source": []
  },
  {
   "cell_type": "markdown",
   "id": "a44ee400-5b51-4bea-a593-889f4abd8a44",
   "metadata": {},
   "source": [
    "# Testing a function on an image"
   ]
  },
  {
   "cell_type": "code",
   "execution_count": null,
   "id": "1ada7468-512f-4575-b9b9-a8494288ae28",
   "metadata": {},
   "outputs": [],
   "source": [
    "# show original Obama image\n",
    "# save picture's url in pics_url variable\n",
    "pics_url = \"https://upload.wikimedia.org/wikipedia/commons/8/8d/President_Barack_Obama.jpg\"\n",
    "\n",
    "# save picture's name as pic\n",
    "pic = \"image.jpg\"\n",
    "\n",
    "# download picture from url and save locally as image.jpg\n",
    "urlreq.urlretrieve(pics_url, pic)\n",
    "\n",
    "# read image with openCV\n",
    "image = cv2.imread(pic)\n",
    "\n",
    "# plot image with matplotlib package\n",
    "plt.imshow(image)"
   ]
  },
  {
   "cell_type": "code",
   "execution_count": null,
   "id": "37846c55-200f-4ad4-991a-3c96b4c3be1f",
   "metadata": {},
   "outputs": [],
   "source": [
    "# Make a function to draw bounding box and landmarks\n",
    "def draw_image(image):\n",
    "    image_rgb = cv2.cvtColor(image, cv2.COLOR_BGR2RGB) \n",
    "    # draw bounding box\n",
    "    return image_rgb\n",
    "\n"
   ]
  },
  {
   "cell_type": "code",
   "execution_count": null,
   "id": "c2f59cd1-f8d4-4fd2-8b50-6bafc646c899",
   "metadata": {},
   "outputs": [],
   "source": [
    "# pass in the Obama image to the function\n",
    "obama_image_rgb = draw_image(image) "
   ]
  },
  {
   "cell_type": "code",
   "execution_count": null,
   "id": "345e7024-e518-4608-926a-2e5fed586e49",
   "metadata": {},
   "outputs": [],
   "source": [
    "# show the new Obama image\n",
    "plt.imshow(obama_image_rgb)"
   ]
  },
  {
   "cell_type": "code",
   "execution_count": null,
   "id": "dc540bb7-4bec-478c-8d94-4a962c67ad9f",
   "metadata": {},
   "outputs": [],
   "source": []
  }
 ],
 "metadata": {
  "kernelspec": {
   "display_name": "Python 3",
   "language": "python",
   "name": "python3"
  },
  "language_info": {
   "codemirror_mode": {
    "name": "ipython",
    "version": 3
   },
   "file_extension": ".py",
   "mimetype": "text/x-python",
   "name": "python",
   "nbconvert_exporter": "python",
   "pygments_lexer": "ipython3",
   "version": "3.8.2"
  }
 },
 "nbformat": 4,
 "nbformat_minor": 5
}
