{
 "cells": [
  {
   "cell_type": "code",
   "execution_count": 28,
   "id": "b6855553-9c78-4eb1-babb-19d5985d729b",
   "metadata": {},
   "outputs": [],
   "source": [
    "# Play an audio file\n",
    "from playsound import playsound\n",
    "import time"
   ]
  },
  {
   "cell_type": "code",
   "execution_count": 27,
   "id": "0cda7bad-961b-4c03-ae05-86475e713370",
   "metadata": {},
   "outputs": [],
   "source": [
    "# play different audio files for each emotion\n",
    "emotions = ['neutral','happy', 'sad', 'surprise', 'angry'] # put the emotions\n",
    "\n",
    "\n",
    "for emotion in emotions:\n",
    "    if emotion == 'happy':\n",
    "        # play the happy sound\n",
    "        playsound('sounds/yay.mp3')\n",
    "        time.sleep(1)\n",
    "    elif emotion == 'sad':\n",
    "         # play the sad sound\n",
    "        playsound('sounds/sad.mp3')\n",
    "        time.sleep(1)\n",
    "    elif emotion == 'angry':\n",
    "        # play the angry sound\n",
    "        playsound('sounds/angry.mp3')\n",
    "        time.sleep(1)\n",
    "    elif emotion == 'surprise':\n",
    "        # play surprised sound\n",
    "        playsound('sounds/surprised.mp3')\n",
    "        time.sleep(1)\n",
    "    elif emotion == 'neutral':\n",
    "        # play the neutral sound\n",
    "        playsound('sounds/neutral.mp3')\n",
    "        time.sleep(1)"
   ]
  },
  {
   "cell_type": "code",
   "execution_count": 29,
   "id": "7e6e0ab6-a42f-4e10-b81c-762ce3a1ec93",
   "metadata": {},
   "outputs": [],
   "source": [
    "results = ['pass', 'no_pass']        \n",
    "for result in results:\n",
    "    if result == 'pass' :\n",
    "        # play correct sound\n",
    "        playsound('sounds/correct.mp3')\n",
    "        time.sleep(1)\n",
    "    elif result == 'no_pass':\n",
    "        # play incorrect sound\n",
    "        playsound('sounds/incorrect.mp3')\n",
    "        time.sleep(1)\n",
    "    "
   ]
  },
  {
   "cell_type": "code",
   "execution_count": 14,
   "id": "9a58774a-5095-4bbe-b1d6-b0e0d07c1d52",
   "metadata": {},
   "outputs": [],
   "source": [
    "# find sounds for each emotion and put into sounds yay\n",
    "# loop though and play all the sounds\n",
    "\n",
    "# Find sounds for pass and no pass "
   ]
  },
  {
   "cell_type": "code",
   "execution_count": null,
   "id": "724cb1db-82e4-4ce7-a2f8-61b784350bd4",
   "metadata": {},
   "outputs": [],
   "source": []
  }
 ],
 "metadata": {
  "kernelspec": {
   "display_name": "fastai",
   "language": "python",
   "name": "fastai"
  },
  "language_info": {
   "codemirror_mode": {
    "name": "ipython",
    "version": 3
   },
   "file_extension": ".py",
   "mimetype": "text/x-python",
   "name": "python",
   "nbconvert_exporter": "python",
   "pygments_lexer": "ipython3",
   "version": "3.9.5"
  }
 },
 "nbformat": 4,
 "nbformat_minor": 5
}
